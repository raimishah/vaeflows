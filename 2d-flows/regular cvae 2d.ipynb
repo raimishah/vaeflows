{
 "cells": [
  {
   "cell_type": "code",
   "execution_count": 1,
   "metadata": {},
   "outputs": [],
   "source": [
    "import numpy as np\n",
    "import pandas as pd\n",
    "import matplotlib.pyplot as plt\n",
    "import os\n",
    "from sklearn.preprocessing import MinMaxScaler\n",
    "\n",
    "import torch\n",
    "import torch.nn as nn\n",
    "import torch.nn.functional as F\n",
    "from torch.autograd import Variable\n",
    "import torchvision\n",
    "from torchvision import transforms\n",
    "import torch.optim as optim\n",
    "from torch import nn\n",
    "from tqdm.notebook import tqdm\n",
    "from torchsummary import summary\n",
    "from torchvision import datasets\n",
    "from torchvision import transforms\n",
    "\n",
    "\n",
    "import utils\n",
    "from utils import softclip\n",
    "from models.cnn_sigmaVAE import CNN_sigmaVAE\n",
    "from models.cnn_sigmacVAE import CNN_sigmacVAE\n",
    "from models.cnn_sigmaVAE_flow import CNN_sigmaVAE_flow\n",
    "from models.cnn_sigmacVAE_flow import CNN_sigmacVAE_flow\n",
    "from trainer import Trainer\n",
    "\n",
    "import evaluation_utils\n",
    "\n",
    "device = torch.device(\"cuda\" if torch.cuda.is_available() else \"cpu\")\n",
    "\n"
   ]
  },
  {
   "cell_type": "code",
   "execution_count": 2,
   "metadata": {},
   "outputs": [],
   "source": [
    "window_size=32\n",
    "cond_window_size=13\n",
    "batch_size=256\n",
    "latent_dim=10\n",
    "X_train_data, X_test_data, X_train_tensor, cond_train_tensor, X_test_tensor, cond_test_tensor, df_Y_test, trainloader, valloader, testloader = utils.read_machine_data_cvae_with_validation('../../datasets/ServerMachineDataset/machine-1-1', window_size, cond_window_size, batch_size, .3)\n",
    " \n"
   ]
  },
  {
   "cell_type": "code",
   "execution_count": 3,
   "metadata": {},
   "outputs": [
    {
     "output_type": "display_data",
     "data": {
      "text/plain": "HBox(children=(FloatProgress(value=0.0, max=10.0), HTML(value='')))",
      "application/vnd.jupyter.widget-view+json": {
       "version_major": 2,
       "version_minor": 0,
       "model_id": "1d127af00df3485dac1843f827f9e358"
      }
     },
     "metadata": {}
    },
    {
     "output_type": "stream",
     "name": "stdout",
     "text": [
      "\n"
     ]
    }
   ],
   "source": [
    "num_feats = X_train_data.shape[-1]\n",
    "\n",
    "model = CNN_sigmacVAE(latent_dim, window_size, cond_window_size=cond_window_size, num_feats=num_feats).to(device)\n",
    "model.cuda() if torch.cuda.is_available() else model.cpu()\n",
    "\n",
    "trainer = Trainer(data_name = '1-1', model_type = 'cvae', flow_type='', early_stop_patience=200)\n",
    "model, flag = trainer.train_model(model, num_epochs=10, learning_rate=.005, trainloader=trainloader, valloader=valloader)\n"
   ]
  },
  {
   "cell_type": "code",
   "execution_count": 4,
   "metadata": {},
   "outputs": [
    {
     "output_type": "stream",
     "name": "stdout",
     "text": [
      "MSE : 0.0124093988\n",
      "MSE : 0.0211777524\n"
     ]
    }
   ],
   "source": [
    "utils.plot_reconstruction(model, model_type='cvae',dataloader=trainloader)\n",
    "utils.plot_reconstruction(model, model_type='cvae',dataloader=testloader)"
   ]
  },
  {
   "cell_type": "code",
   "execution_count": 4,
   "metadata": {},
   "outputs": [
    {
     "output_type": "display_data",
     "data": {
      "text/plain": "HBox(children=(FloatProgress(value=0.0, max=1000.0), HTML(value='')))",
      "application/vnd.jupyter.widget-view+json": {
       "version_major": 2,
       "version_minor": 0,
       "model_id": "356af1cfaa6543f88e9912137ecffe92"
      }
     },
     "metadata": {}
    },
    {
     "output_type": "stream",
     "name": "stderr",
     "text": [
      "ERROR:root:Internal Python error in the inspect module.\n",
      "Below is the traceback from this internal error.\n",
      "\n",
      "Traceback (most recent call last):\n",
      "  File \"C:\\Python37\\lib\\site-packages\\IPython\\core\\interactiveshell.py\", line 3319, in run_code\n",
      "    exec(code_obj, self.user_global_ns, self.user_ns)\n",
      "  File \"<ipython-input-4-c926c6917ff3>\", line 5, in <module>\n",
      "    model, flag = trainer.train_model(model, num_epochs=1000, learning_rate=.005, trainloader=trainloader, valloader=valloader)\n",
      "  File \"c:\\Users\\raimi\\Desktop\\school\\vaeflows\\2d-flows\\trainer.py\", line 73, in train_model\n",
      "    loss.backward()\n",
      "  File \"C:\\Python37\\lib\\site-packages\\torch\\tensor.py\", line 195, in backward\n",
      "    torch.autograd.backward(self, gradient, retain_graph, create_graph)\n",
      "  File \"C:\\Python37\\lib\\site-packages\\torch\\autograd\\__init__.py\", line 99, in backward\n",
      "    allow_unreachable=True)  # allow_unreachable flag\n",
      "KeyboardInterrupt\n",
      "\n",
      "During handling of the above exception, another exception occurred:\n",
      "\n",
      "Traceback (most recent call last):\n",
      "  File \"C:\\Python37\\lib\\site-packages\\IPython\\core\\interactiveshell.py\", line 2034, in showtraceback\n",
      "    stb = value._render_traceback_()\n",
      "AttributeError: 'KeyboardInterrupt' object has no attribute '_render_traceback_'\n",
      "\n",
      "During handling of the above exception, another exception occurred:\n",
      "\n",
      "Traceback (most recent call last):\n",
      "  File \"C:\\Python37\\lib\\site-packages\\IPython\\core\\ultratb.py\", line 1151, in get_records\n",
      "    return _fixed_getinnerframes(etb, number_of_lines_of_context, tb_offset)\n",
      "  File \"C:\\Python37\\lib\\site-packages\\IPython\\core\\ultratb.py\", line 319, in wrapped\n",
      "    return f(*args, **kwargs)\n",
      "  File \"C:\\Python37\\lib\\site-packages\\IPython\\core\\ultratb.py\", line 353, in _fixed_getinnerframes\n",
      "    records = fix_frame_records_filenames(inspect.getinnerframes(etb, context))\n",
      "  File \"C:\\Python37\\lib\\inspect.py\", line 1502, in getinnerframes\n",
      "    frameinfo = (tb.tb_frame,) + getframeinfo(tb, context)\n",
      "  File \"C:\\Python37\\lib\\inspect.py\", line 1460, in getframeinfo\n",
      "    filename = getsourcefile(frame) or getfile(frame)\n",
      "  File \"C:\\Python37\\lib\\inspect.py\", line 696, in getsourcefile\n",
      "    if getattr(getmodule(object, filename), '__loader__', None) is not None:\n",
      "  File \"C:\\Python37\\lib\\inspect.py\", line 739, in getmodule\n",
      "    f = getabsfile(module)\n",
      "  File \"C:\\Python37\\lib\\inspect.py\", line 708, in getabsfile\n",
      "    _filename = getsourcefile(object) or getfile(object)\n",
      "  File \"C:\\Python37\\lib\\inspect.py\", line 693, in getsourcefile\n",
      "    if os.path.exists(filename):\n",
      "  File \"C:\\Python37\\lib\\genericpath.py\", line 19, in exists\n",
      "    os.stat(path)\n",
      "KeyboardInterrupt\n"
     ]
    },
    {
     "output_type": "error",
     "ename": "KeyboardInterrupt",
     "evalue": "",
     "traceback": [
      "\u001b[1;31m---------------------------------------------------------------------------\u001b[0m"
     ]
    }
   ],
   "source": [
    "\n",
    "\n",
    "model = CNN_sigmacVAE(latent_dim, window_size, cond_window_size=cond_window_size, num_feats=38, use_probabilistic_decoder=True).to(device)\n",
    "model.cuda() if torch.cuda.is_available() else model.cpu()\n",
    "\n",
    "trainer = Trainer(data_name = '1-1', model_type = 'cvae', flow_type='', early_stop_patience=200)\n",
    "model, flag = trainer.train_model(model, num_epochs=1000, learning_rate=.005, trainloader=trainloader, valloader=valloader)\n"
   ]
  },
  {
   "cell_type": "code",
   "execution_count": null,
   "metadata": {},
   "outputs": [],
   "source": [
    "utils.plot_reconstruction_prob_decoder(model, 'cvae', trainloader, X_train_tensor)\n",
    "\n",
    "utils.plot_reconstruction_prob_decoder(model, 'cvae', trainloader, X_test_tensor)"
   ]
  }
 ],
 "metadata": {
  "kernelspec": {
   "display_name": "Python 3",
   "language": "python",
   "name": "python3"
  },
  "language_info": {
   "codemirror_mode": {
    "name": "ipython",
    "version": 3
   },
   "file_extension": ".py",
   "mimetype": "text/x-python",
   "name": "python",
   "nbconvert_exporter": "python",
   "pygments_lexer": "ipython3",
   "version": "3.7.3-final"
  }
 },
 "nbformat": 4,
 "nbformat_minor": 4
}