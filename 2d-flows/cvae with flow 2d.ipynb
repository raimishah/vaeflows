{
 "cells": [
  {
   "cell_type": "code",
   "execution_count": 1,
   "metadata": {},
   "outputs": [
    {
     "name": "stderr",
     "output_type": "stream",
     "text": [
      "c:\\python37\\lib\\site-packages\\ipykernel_launcher.py:32: UserWarning: Matplotlib is currently using agg, which is a non-GUI backend, so cannot show the figure.\n"
     ]
    }
   ],
   "source": [
    "import pandas as pd\n",
    "import matplotlib\n",
    "import matplotlib.pyplot as plt\n",
    "import numpy as np\n",
    "from scipy.stats import norm\n",
    "from scipy.stats import genpareto\n",
    "\n",
    "from sklearn.metrics import mean_squared_error\n",
    "from sklearn.metrics import precision_score\n",
    "from sklearn.metrics import recall_score\n",
    "from sklearn.metrics import f1_score\n",
    "from sklearn.metrics import average_precision_score\n",
    "from sklearn.metrics import precision_recall_curve\n",
    "from tqdm.notebook import trange, tqdm\n",
    "#from anomaly_scoring import get_anomaly_scores\n",
    "\n",
    "import torch\n",
    "import torch.optim as optim\n",
    "device = torch.device(\"cuda\" if torch.cuda.is_available() else \"cpu\")\n",
    "%matplotlib inline \n",
    "\n",
    "import utils\n",
    "from utils import read_machine_data_cvae\n",
    "from utils import softclip\n",
    "from utils import plot_train_test_reconstructions_cvae\n",
    "import evaluation_utils\n",
    "from models.cnn_sigmacVAE_flow import CNN_sigmacVAE_flow\n",
    "\n",
    "from maf import MAF\n",
    "\n",
    "plt.plot([0,1],[2,3])\n",
    "plt.show()\n"
   ]
  },
  {
   "cell_type": "code",
   "execution_count": 2,
   "metadata": {},
   "outputs": [],
   "source": [
    "window_size = 24\n",
    "cond_window_size = 8\n",
    "batch_size=256\n",
    "\n",
    "X_train_data, X_test_data, X_train_tensor, cond_train_tensor, X_test_tensor, cond_test_tensor, df_Y_test, trainloader, testloader = read_machine_data_cvae('../../datasets/ServerMachineDataset/machine-1-1', window_size, cond_window_size, batch_size)"
   ]
  },
  {
   "cell_type": "code",
   "execution_count": 3,
   "metadata": {},
   "outputs": [],
   "source": [
    "def train_flow_model(model, num_epochs, learning_rate, dataloader):\n",
    "    optimizer = optim.Adam(model.parameters(), lr=learning_rate)\n",
    "\n",
    "    epochs=num_epochs\n",
    "    tq = tqdm(range(epochs))\n",
    "    \n",
    "    losses = []\n",
    "    \n",
    "    for epoch in tq:\n",
    "        flag = False\n",
    "        for j, data in enumerate(dataloader, 0):\n",
    "\n",
    "            model.train()\n",
    "            \n",
    "            optimizer.zero_grad()\n",
    "\n",
    "            #batches\n",
    "            inputs, cond = data\n",
    "            inputs = inputs.cuda() if torch.cuda.is_available() else inputs.cpu()\n",
    "            inputs.to(device)\n",
    "            cond = cond.cuda() if torch.cuda.is_available() else cond.cpu()\n",
    "            cond.to(device)\n",
    "\n",
    "            outputs, rec_mu, rec_sigma, kl = model(inputs, cond)\n",
    "\n",
    "            rec_comps, rec, rec_mu_sigma_loss, kl = model.loss_function(outputs, inputs, rec_mu, rec_sigma, kl)\n",
    "\n",
    "            loss = rec + kl + rec_mu_sigma_loss\n",
    "\n",
    "            if(np.isnan(loss.item())):\n",
    "                print(\"Noped out at\", epoch, j, kl, rec_comps)\n",
    "                flag = True\n",
    "                break\n",
    "\n",
    "            loss.backward()\n",
    "            optimizer.step()\n",
    "        if(flag):\n",
    "            break\n",
    "        tq.set_postfix(loss=loss.item())\n",
    "        #print(epoch, 'total :' + str(loss.item()) + ' rec : ' + str(rec.item()) + ' kl : ' + str(kl.sum().item()) + ' sigma: ' + str(model.log_sigma.item()))\n",
    "\n",
    "        losses.append(loss)\n",
    "        \n",
    "        #break\n",
    "        \n",
    "    plt.plot(losses)\n",
    "    plt.show()\n",
    "    \n",
    "    return model"
   ]
  },
  {
   "cell_type": "code",
   "execution_count": 12,
   "metadata": {},
   "outputs": [
    {
     "name": "stdout",
     "output_type": "stream",
     "text": [
      "CNN_sigmacVAE_flow(\n",
      "  (conv1): Conv2d(1, 8, kernel_size=(5, 5), stride=(1, 1))\n",
      "  (bn1): BatchNorm2d(8, eps=1e-05, momentum=0.1, affine=True, track_running_stats=True)\n",
      "  (conv2): Conv2d(8, 16, kernel_size=(5, 5), stride=(1, 1))\n",
      "  (bn2): BatchNorm2d(16, eps=1e-05, momentum=0.1, affine=True, track_running_stats=True)\n",
      "  (conv3): Conv2d(16, 4, kernel_size=(5, 5), stride=(1, 1))\n",
      "  (bn3): BatchNorm2d(4, eps=1e-05, momentum=0.1, affine=True, track_running_stats=True)\n",
      "  (fc41): Linear(in_features=2080, out_features=8, bias=True)\n",
      "  (fc42): Linear(in_features=2080, out_features=8, bias=True)\n",
      "  (defc1): Linear(in_features=388, out_features=1872, bias=True)\n",
      "  (deconv1): ConvTranspose2d(4, 16, kernel_size=(7, 10), stride=(1, 1))\n",
      "  (debn1): BatchNorm2d(16, eps=1e-05, momentum=0.1, affine=True, track_running_stats=True)\n",
      "  (deconv2): ConvTranspose2d(16, 8, kernel_size=(7, 10), stride=(1, 1))\n",
      "  (debn2): BatchNorm2d(8, eps=1e-05, momentum=0.1, affine=True, track_running_stats=True)\n",
      "  (deconv3): ConvTranspose2d(8, 1, kernel_size=(7, 8), stride=(1, 1))\n",
      "  (decoder_fc41): Linear(in_features=24, out_features=24, bias=True)\n",
      "  (decoder_fc42): Linear(in_features=24, out_features=24, bias=True)\n",
      "  (flow): RealNVP(\n",
      "    (net): FlowSequential(\n",
      "      (0): LinearMaskedCoupling(\n",
      "        (s_net): Sequential(\n",
      "          (0): Linear(in_features=8, out_features=50, bias=True)\n",
      "          (1): Tanh()\n",
      "          (2): Linear(in_features=50, out_features=50, bias=True)\n",
      "          (3): Tanh()\n",
      "          (4): Linear(in_features=50, out_features=8, bias=True)\n",
      "        )\n",
      "        (t_net): Sequential(\n",
      "          (0): Linear(in_features=8, out_features=50, bias=True)\n",
      "          (1): ReLU()\n",
      "          (2): Linear(in_features=50, out_features=50, bias=True)\n",
      "          (3): ReLU()\n",
      "          (4): Linear(in_features=50, out_features=8, bias=True)\n",
      "        )\n",
      "      )\n",
      "      (1): BatchNorm()\n",
      "    )\n",
      "  )\n",
      ")\n"
     ]
    },
    {
     "data": {
      "application/vnd.jupyter.widget-view+json": {
       "model_id": "546d9133d4c641f1a14685b014c20078",
       "version_major": 2,
       "version_minor": 0
      },
      "text/plain": [
       "HBox(children=(FloatProgress(value=0.0, max=5.0), HTML(value='')))"
      ]
     },
     "metadata": {},
     "output_type": "display_data"
    },
    {
     "name": "stdout",
     "output_type": "stream",
     "text": [
      "\n"
     ]
    },
    {
     "name": "stderr",
     "output_type": "stream",
     "text": [
      "c:\\python37\\lib\\site-packages\\ipykernel_launcher.py:47: UserWarning: Matplotlib is currently using agg, which is a non-GUI backend, so cannot show the figure.\n"
     ]
    }
   ],
   "source": [
    "model = CNN_sigmacVAE_flow(latent_dim=8, window_size=window_size, cond_window_size=cond_window_size, flow_type='RealNVP')\n",
    "model.to(device)\n",
    "model.cuda() if torch.cuda.is_available() else model.cpu()\n",
    "print(model)\n",
    "\n",
    "model = train_flow_model(model, 5, .005, trainloader)"
   ]
  },
  {
   "cell_type": "code",
   "execution_count": 13,
   "metadata": {},
   "outputs": [
    {
     "name": "stderr",
     "output_type": "stream",
     "text": [
      "C:\\Users\\raimi\\Desktop\\school\\vaeflows\\2d-flows\\utils.py:93: RuntimeWarning: More than 20 figures have been opened. Figures created through the pyplot interface (`matplotlib.pyplot.figure`) are retained until explicitly closed and may consume too much memory. (To control this warning, see the rcParam `figure.max_open_warning`).\n",
      "  plt.figure()\n",
      "C:\\Users\\raimi\\Desktop\\school\\vaeflows\\2d-flows\\utils.py:96: UserWarning: Matplotlib is currently using agg, which is a non-GUI backend, so cannot show the figure.\n",
      "  plt.show()\n"
     ]
    },
    {
     "name": "stdout",
     "output_type": "stream",
     "text": [
      "MSE : 0.03518\n"
     ]
    },
    {
     "name": "stderr",
     "output_type": "stream",
     "text": [
      "C:\\Users\\raimi\\Desktop\\school\\vaeflows\\2d-flows\\utils.py:116: RuntimeWarning: More than 20 figures have been opened. Figures created through the pyplot interface (`matplotlib.pyplot.figure`) are retained until explicitly closed and may consume too much memory. (To control this warning, see the rcParam `figure.max_open_warning`).\n",
      "  plt.figure()\n",
      "C:\\Users\\raimi\\Desktop\\school\\vaeflows\\2d-flows\\utils.py:119: UserWarning: Matplotlib is currently using agg, which is a non-GUI backend, so cannot show the figure.\n",
      "  plt.show()\n"
     ]
    },
    {
     "name": "stdout",
     "output_type": "stream",
     "text": [
      "MSE : 0.03589\n"
     ]
    }
   ],
   "source": [
    "\n",
    "plot_train_test_reconstructions_cvae(model, X_train_tensor, X_train_data, X_test_tensor, X_test_data, cond_train_tensor, cond_test_tensor, window_size, cond_window_size)"
   ]
  },
  {
   "cell_type": "code",
   "execution_count": 14,
   "metadata": {},
   "outputs": [
    {
     "name": "stdout",
     "output_type": "stream",
     "text": [
      "2021-01-25 12:47:51.796789\n",
      "Computing AUPR for 28456 thresholds ... \n"
     ]
    },
    {
     "name": "stderr",
     "output_type": "stream",
     "text": [
      "c:\\python37\\lib\\site-packages\\sklearn\\metrics\\_classification.py:1221: UndefinedMetricWarning: Precision is ill-defined and being set to 0.0 due to no predicted samples. Use `zero_division` parameter to control this behavior.\n",
      "  _warn_prf(average, modifier, msg_start, len(result))\n",
      "C:\\Users\\raimi\\Desktop\\school\\vaeflows\\2d-flows\\evaluation_utils.py:154: UserWarning: Matplotlib is currently using agg, which is a non-GUI backend, so cannot show the figure.\n",
      "  plt.ylabel('Precision')\n",
      "C:\\Users\\raimi\\Desktop\\school\\vaeflows\\2d-flows\\evaluation_utils.py:49: RuntimeWarning: More than 20 figures have been opened. Figures created through the pyplot interface (`matplotlib.pyplot.figure`) are retained until explicitly closed and may consume too much memory. (To control this warning, see the rcParam `figure.max_open_warning`).\n",
      "  plt.figure(figsize=(50,15))\n"
     ]
    },
    {
     "name": "stdout",
     "output_type": "stream",
     "text": [
      "\n",
      "--- AUPR ---\n",
      "0.8853524198557919\n",
      "Best F1 score : 0.9655048508803449 at threshold : -0.30606568861711314 (1-percentile : 0.03449514911965512)\n",
      "Corresponding best precision : 0.9355849582172702, best recall : 0.9974016332590943\n"
     ]
    },
    {
     "name": "stderr",
     "output_type": "stream",
     "text": [
      "C:\\Users\\raimi\\Desktop\\school\\vaeflows\\2d-flows\\evaluation_utils.py:54: UserWarning: Matplotlib is currently using agg, which is a non-GUI backend, so cannot show the figure.\n",
      "  plt.show()\n",
      "C:\\Users\\raimi\\Desktop\\school\\vaeflows\\2d-flows\\evaluation_utils.py:56: RuntimeWarning: More than 20 figures have been opened. Figures created through the pyplot interface (`matplotlib.pyplot.figure`) are retained until explicitly closed and may consume too much memory. (To control this warning, see the rcParam `figure.max_open_warning`).\n",
      "  plt.figure(figsize=(50,15))\n",
      "C:\\Users\\raimi\\Desktop\\school\\vaeflows\\2d-flows\\evaluation_utils.py:61: UserWarning: Matplotlib is currently using agg, which is a non-GUI backend, so cannot show the figure.\n",
      "  plt.show()\n"
     ]
    },
    {
     "name": "stdout",
     "output_type": "stream",
     "text": [
      "\n",
      "--- Metrics ---\n",
      "precision : 0.7681532304173814 recall : 0.9974016332590943 f1 : 0.8678940568475453\n",
      "\n",
      "\n",
      "2021-01-25 12:57:23.366434\n"
     ]
    }
   ],
   "source": [
    "import datetime\n",
    "print(datetime.datetime.now())\n",
    "evaluation_utils.cVAE_anomaly_detection(model, X_test_tensor, X_test_data, cond_test_tensor, X_train_data, df_Y_test, .05)\n",
    "\n",
    "print(datetime.datetime.now())"
   ]
  }
 ],
 "metadata": {
  "kernelspec": {
   "display_name": "Python 3",
   "language": "python",
   "name": "python3"
  },
  "language_info": {
   "codemirror_mode": {
    "name": "ipython",
    "version": 3
   },
   "file_extension": ".py",
   "mimetype": "text/x-python",
   "name": "python",
   "nbconvert_exporter": "python",
   "pygments_lexer": "ipython3",
   "version": "3.7.3"
  }
 },
 "nbformat": 4,
 "nbformat_minor": 4
}
